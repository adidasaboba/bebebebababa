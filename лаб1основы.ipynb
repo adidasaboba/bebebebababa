{
  "cells": [
    {
      "cell_type": "markdown",
      "metadata": {
        "id": "M-DGa20PaHnu"
      },
      "source": [
        "#Задача 1\n",
        "Написать функцию на вход которой подается строка, состоящая из латинских букв.\n",
        "Функция должна вернуть количество гласных букв (a, e, i, o, u) в этой строке. Написать тесты для кода"
      ]
    },
    {
      "cell_type": "code",
      "source": [
        "import math\n",
        "import numpy as np"
      ],
      "metadata": {
        "id": "dPI8bSN_xPg8"
      },
      "execution_count": 6,
      "outputs": []
    },
    {
      "cell_type": "code",
      "execution_count": 7,
      "metadata": {
        "id": "XvX8X_JJ6PCb",
        "colab": {
          "base_uri": "https://localhost:8080/"
        },
        "outputId": "951a1240-77d5-409b-c6a0-2a66327ac8c9"
      },
      "outputs": [
        {
          "output_type": "stream",
          "name": "stdout",
          "text": [
            "aboba\n",
            "aboba 3\n"
          ]
        }
      ],
      "source": [
        "def f1(s):\n",
        "  count = 0\n",
        "  for i in s.lower():\n",
        "    if i in 'aeiou':\n",
        "      count += 1\n",
        "  return count\n",
        "\n",
        "a = input()\n",
        "print(a, f1(a))"
      ]
    },
    {
      "cell_type": "markdown",
      "metadata": {
        "id": "t2ClV_Y0bbr6"
      },
      "source": [
        "# Задача 2\n",
        "Написать функцию на вход, которой подается строка. Функция должна вернуть true, если\n",
        "каждый символ в строке встречается только 1 раз, иначе должна вернуть false. Написать тесты для кода"
      ]
    },
    {
      "cell_type": "code",
      "execution_count": 2,
      "metadata": {
        "id": "FppbECao6VIz",
        "colab": {
          "base_uri": "https://localhost:8080/"
        },
        "outputId": "124f5d82-5ec2-427a-d13c-0f10e8d6a476"
      },
      "outputs": [
        {
          "output_type": "stream",
          "name": "stdout",
          "text": [
            "dasda\n",
            "dasda 2\n"
          ]
        }
      ],
      "source": [
        "def f1(s):\n",
        "  count = 0\n",
        "  for i in s.lower():\n",
        "    if i in 'aeiou':\n",
        "      count += 1\n",
        "  return count\n",
        "\n",
        "a = input()\n",
        "print(a, f1(a))"
      ]
    },
    {
      "cell_type": "markdown",
      "metadata": {
        "id": "udRiIK1cdt6E"
      },
      "source": [
        "# Задача 3\n",
        "Написать функцию, которая принимает положительное число и возвращает количество\n",
        "бит равных 1 в этом числе. Написать тесты для кода"
      ]
    },
    {
      "cell_type": "code",
      "execution_count": 4,
      "metadata": {
        "id": "6tkfDJRz6dp_",
        "colab": {
          "base_uri": "https://localhost:8080/"
        },
        "outputId": "386607b5-6ecf-466c-930e-159f4a55d41a"
      },
      "outputs": [
        {
          "output_type": "stream",
          "name": "stdout",
          "text": [
            "1\n"
          ]
        }
      ],
      "source": [
        "def f3(a):\n",
        "  return bin(a)[2:].count('1')\n",
        "\n",
        "a = 1\n",
        "print(f3(a))"
      ]
    },
    {
      "cell_type": "markdown",
      "metadata": {
        "id": "26dDUz-Ae17N"
      },
      "source": [
        "# Задача 4\n",
        "Написать функцию, которая принимает положительное число. Функция должна вернуть то,\n",
        "сколько раз необходимо перемножать цифры числа или результат перемножения, чтобы\n",
        "получилось число состоящее из одной цифры.\n",
        "Например, для входного числа:\n",
        "· 39 функция должна вернуть 3, так как 3*9=27 => 2*7=14 => 1*4=4\n",
        "· 4 функция должна вернуть 0, так как число уже состоит из одной цифры\n",
        "· 999 функция должна вернуть 4, так как 9*9*9=729 => 7*2*9=126 => 1*2*6=12 =>\n",
        "1*2=2. Написать тесты для кода"
      ]
    },
    {
      "cell_type": "code",
      "execution_count": 8,
      "metadata": {
        "id": "BH1A_Mgi6i4G",
        "colab": {
          "base_uri": "https://localhost:8080/"
        },
        "outputId": "8dff7341-faa0-420e-a7b1-7e856715d896"
      },
      "outputs": [
        {
          "output_type": "stream",
          "name": "stdout",
          "text": [
            "4\n"
          ]
        }
      ],
      "source": [
        "def magic(n):\n",
        "  c = 0\n",
        "  while n > 9:\n",
        "    new_n = np.prod([int(digit) for digit in str(n)])\n",
        "    n = new_n\n",
        "    c += 1\n",
        "  return(c)\n",
        "\n",
        "print(magic(999))"
      ]
    },
    {
      "cell_type": "markdown",
      "metadata": {
        "id": "0nS-kIa8g8vd"
      },
      "source": [
        "# Задача 5\n",
        "Написать функцию, которая принимает два целочисленных вектора одинаковой длины и\n",
        "возвращает среднеквадратическое отклонение двух векторов. Написать тесты для кода"
      ]
    },
    {
      "cell_type": "code",
      "execution_count": 9,
      "metadata": {
        "id": "8iphx4LM6xbx",
        "colab": {
          "base_uri": "https://localhost:8080/"
        },
        "outputId": "7a15f8dc-b270-4a18-a651-120673611ef3"
      },
      "outputs": [
        {
          "output_type": "stream",
          "name": "stdout",
          "text": [
            "1.0\n"
          ]
        }
      ],
      "source": [
        "def mse(x, y):\n",
        "    res = 0\n",
        "    for i in range(len(x)):\n",
        "      res += (x[i] - y[i]) * (x[i] - y[i])\n",
        "    return res / len(x)\n",
        "\n",
        "x = [2, 2]\n",
        "y = [3, 3]\n",
        "print(mse(x, y))\n"
      ]
    },
    {
      "cell_type": "markdown",
      "metadata": {
        "id": "vpIPKL439zkw"
      },
      "source": [
        "# Задача 6\n",
        "Написать функцию, принимающая целое положительное число. Функция должна вернуть\n",
        "строку вида “(n1**p1)(n2**p2)…(nk**pk)” представляющая разложение числа на простые\n",
        "множители (если pi == 1, то выводить только ni).\n",
        "Например, для числа 86240 функция должна вернуть “(2**5)(5)(7**2)(11)”. Написать тесты для кода"
      ]
    },
    {
      "cell_type": "code",
      "execution_count": 10,
      "metadata": {
        "id": "pFebmcZk94Jw"
      },
      "outputs": [],
      "source": [
        "import sympy\n",
        "\n",
        "def f6(number):\n",
        "    result = ''\n",
        "    primes = list(sympy.primerange(0, number))\n",
        "    for prime in primes:\n",
        "\n",
        "        if number % prime == 0:\n",
        "          pow = 0\n",
        "          while number % prime == 0:\n",
        "            pow += 1\n",
        "            number //= prime\n",
        "          if pow == 1:\n",
        "            result += f'({prime})'\n",
        "          else:\n",
        "            result += f'({prime}**{pow})'\n",
        "\n",
        "        if number == 1:\n",
        "          return result"
      ]
    },
    {
      "cell_type": "markdown",
      "metadata": {
        "id": "ps2s0BudX7A2"
      },
      "source": [
        "# Задача 7\n",
        "Написать функцию, принимающая целое число n, задающее количество кубиков. Функция\n",
        "должна определить, можно ли из данного кол-ва кубиков построить пирамиду, то есть\n",
        "можно ли представить число n как 1^2+2^2+3^2+…+k^2. Если можно, то функция должна\n",
        "вернуть k, иначе строку “It is impossible”. Написать тесты для кода"
      ]
    },
    {
      "cell_type": "code",
      "execution_count": 11,
      "metadata": {
        "id": "3YPjEXxhX_YT"
      },
      "outputs": [],
      "source": [
        "import sympy\n",
        "\n",
        "def f6(number):\n",
        "    result = ''\n",
        "    primes = list(sympy.primerange(0, number))\n",
        "    for prime in primes:\n",
        "\n",
        "        if number % prime == 0:\n",
        "          pow = 0\n",
        "          while number % prime == 0:\n",
        "            pow += 1\n",
        "            number //= prime\n",
        "          if pow == 1:\n",
        "            result += f'({prime})'\n",
        "          else:\n",
        "            result += f'({prime}**{pow})'\n",
        "\n",
        "        if number == 1:\n",
        "          return result"
      ]
    },
    {
      "cell_type": "markdown",
      "metadata": {
        "id": "KeKgmIdAQMEJ"
      },
      "source": [
        "# Задача 8\n",
        "Функция принимает на вход положительное число и определяет является ли оно сбалансированным, т.е. сумма цифр до средних равна сумме цифр после. Средними в случае нечетного числа цифр считать одну цифру, в случае четного - две средних. Написать тесты для кода"
      ]
    },
    {
      "cell_type": "code",
      "execution_count": 12,
      "metadata": {
        "id": "gMAAqtqlQrZt",
        "colab": {
          "base_uri": "https://localhost:8080/"
        },
        "outputId": "c409ab22-753a-48d7-9b76-6b6b5cdb7560"
      },
      "outputs": [
        {
          "output_type": "stream",
          "name": "stdout",
          "text": [
            "False\n",
            "True\n",
            "True\n"
          ]
        }
      ],
      "source": [
        "def f8(n):\n",
        "  nums_list = [int(i) for i in str(n)]\n",
        "  middle = len(nums_list) // 2\n",
        "  if len(nums_list) % 2 == 0:\n",
        "    return np.sum(nums_list[:middle-1]) == np.sum(nums_list[middle + 1:])\n",
        "  else:\n",
        "    return np.sum(nums_list[:middle]) == np.sum(nums_list[middle + 1:])\n",
        "\n",
        "print(f8(305035))\n",
        "print(f8(3501530))\n",
        "print(f8(1231))"
      ]
    },
    {
      "cell_type": "code",
      "source": [],
      "metadata": {
        "id": "BKcBr8J3xlHe"
      },
      "execution_count": null,
      "outputs": []
    }
  ],
  "metadata": {
    "colab": {
      "provenance": []
    },
    "kernelspec": {
      "display_name": "Python 3 (ipykernel)",
      "language": "python",
      "name": "python3"
    },
    "language_info": {
      "codemirror_mode": {
        "name": "ipython",
        "version": 3
      },
      "file_extension": ".py",
      "mimetype": "text/x-python",
      "name": "python",
      "nbconvert_exporter": "python",
      "pygments_lexer": "ipython3",
      "version": "3.12.0"
    }
  },
  "nbformat": 4,
  "nbformat_minor": 0
}