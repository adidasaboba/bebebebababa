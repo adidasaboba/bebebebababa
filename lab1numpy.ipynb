{
  "cells": [
    {
      "cell_type": "markdown",
      "metadata": {
        "id": "vC84e9kzyxPy"
      },
      "source": [
        "<h1>Импорт библиотек"
      ]
    },
    {
      "cell_type": "code",
      "execution_count": 1,
      "metadata": {
        "id": "cgKeNegmQG5S"
      },
      "outputs": [],
      "source": [
        "import numpy as np\n",
        "import matplotlib.pyplot as plt\n",
        "import pandas as pd"
      ]
    },
    {
      "cell_type": "markdown",
      "metadata": {
        "id": "qFM9uVU2x4Ls"
      },
      "source": [
        "<h1>Задача 1. Дан набор из $p$ матриц размерностью $(n, n)$ и $p$ векторов размерностью $(n, 1)$, найти сумму произведений матриц на векторы. Написать тесты для кода"
      ]
    },
    {
      "cell_type": "code",
      "execution_count": 12,
      "metadata": {
        "id": "IAbUvEiYyWFF"
      },
      "outputs": [],
      "source": [
        "def sum_prod(matrices, vectors):\n",
        "    new_vector = [0] * len(vectors[0])\n",
        "    for i in range(len(vectors)):\n",
        "      new_vector[i] = np.dot(matrices[i], vectors[i])\n",
        "    return np.sum(new_vector, axis=0)"
      ]
    },
    {
      "cell_type": "code",
      "source": [
        "vectors = [ [1, 2, 3], [1, 2, 3] ]\n",
        "matrices = [ [[1, 2, 3],\n",
        "              [4, 5, 6],\n",
        "              [7, 8, 9]],\n",
        "\n",
        "              [[1, 2, 3],\n",
        "              [4, 5, 6],\n",
        "              [7, 8, 9]]]\n",
        "print(vectors)\n",
        "print(matrices)\n",
        "print(sum_prod(matrices, vectors))"
      ],
      "metadata": {
        "colab": {
          "base_uri": "https://localhost:8080/"
        },
        "id": "nwtQlTDO0OS9",
        "outputId": "63a7ef76-460e-4fbd-8459-92e6fe616421"
      },
      "execution_count": 28,
      "outputs": [
        {
          "output_type": "stream",
          "name": "stdout",
          "text": [
            "[[1, 2, 3], [1, 2, 3]]\n",
            "[[[1, 2, 3], [4, 5, 6], [7, 8, 9]], [[1, 2, 3], [4, 5, 6], [7, 8, 9]]]\n",
            "[ 28  64 100]\n"
          ]
        },
        {
          "output_type": "stream",
          "name": "stderr",
          "text": [
            "/usr/local/lib/python3.10/dist-packages/numpy/core/fromnumeric.py:86: VisibleDeprecationWarning: Creating an ndarray from ragged nested sequences (which is a list-or-tuple of lists-or-tuples-or ndarrays with different lengths or shapes) is deprecated. If you meant to do this, you must specify 'dtype=object' when creating the ndarray.\n",
            "  return ufunc.reduce(obj, axis, dtype, out, **passkwargs)\n"
          ]
        }
      ]
    },
    {
      "cell_type": "code",
      "source": [
        "print(vectors)\n",
        "print(matrices)\n",
        "print(sum_prod(matrices, vectors))"
      ],
      "metadata": {
        "colab": {
          "base_uri": "https://localhost:8080/",
          "height": 210
        },
        "id": "Lb6_ct3KzMPk",
        "outputId": "2260029f-ffa8-4d7e-cd08-9f7bb318eaa7"
      },
      "execution_count": 15,
      "outputs": [
        {
          "output_type": "error",
          "ename": "NameError",
          "evalue": "ignored",
          "traceback": [
            "\u001b[0;31m---------------------------------------------------------------------------\u001b[0m",
            "\u001b[0;31mNameError\u001b[0m                                 Traceback (most recent call last)",
            "\u001b[0;32m<ipython-input-15-55e3840b192d>\u001b[0m in \u001b[0;36m<cell line: 1>\u001b[0;34m()\u001b[0m\n\u001b[0;32m----> 1\u001b[0;31m \u001b[0mprint\u001b[0m\u001b[0;34m(\u001b[0m\u001b[0mvectors\u001b[0m\u001b[0;34m)\u001b[0m\u001b[0;34m\u001b[0m\u001b[0;34m\u001b[0m\u001b[0m\n\u001b[0m\u001b[1;32m      2\u001b[0m \u001b[0mprint\u001b[0m\u001b[0;34m(\u001b[0m\u001b[0mmatrices\u001b[0m\u001b[0;34m)\u001b[0m\u001b[0;34m\u001b[0m\u001b[0;34m\u001b[0m\u001b[0m\n\u001b[1;32m      3\u001b[0m \u001b[0mprint\u001b[0m\u001b[0;34m(\u001b[0m\u001b[0msum_prod\u001b[0m\u001b[0;34m(\u001b[0m\u001b[0mmatrices\u001b[0m\u001b[0;34m,\u001b[0m \u001b[0mvectors\u001b[0m\u001b[0;34m)\u001b[0m\u001b[0;34m)\u001b[0m\u001b[0;34m\u001b[0m\u001b[0;34m\u001b[0m\u001b[0m\n",
            "\u001b[0;31mNameError\u001b[0m: name 'vectors' is not defined"
          ]
        }
      ]
    },
    {
      "cell_type": "markdown",
      "metadata": {
        "id": "TKwPG4fIy2w4"
      },
      "source": [
        "<h1>Задача 2. Дана матрица M, напишите функцию, которая бинаризует матрицу по некоторому threshold (то есть, все значения большие threshold становятся равными 1, иначе 0). Напишите тесты для кода"
      ]
    },
    {
      "cell_type": "code",
      "execution_count": 5,
      "metadata": {
        "id": "KQDNMgsjRNH7"
      },
      "outputs": [],
      "source": [
        "def binarize(M, threshold=0.5):\n",
        "    return np.where(M > threshold, 1, 0)"
      ]
    },
    {
      "cell_type": "code",
      "source": [
        "M = np.random.rand(4, 4)\n",
        "print(M)\n",
        "print(binarize(M))"
      ],
      "metadata": {
        "colab": {
          "base_uri": "https://localhost:8080/"
        },
        "id": "LTQ5eoV80JJW",
        "outputId": "f6791495-39b6-44c4-ae27-5fe0915cd0f7"
      },
      "execution_count": 27,
      "outputs": [
        {
          "output_type": "stream",
          "name": "stdout",
          "text": [
            "[[0.75249179 0.16359405 0.78641507 0.52573177]\n",
            " [0.72324171 0.80159764 0.91886349 0.69472293]\n",
            " [0.11138086 0.98311705 0.44246509 0.30155132]\n",
            " [0.76604652 0.06085206 0.49208431 0.88942551]]\n",
            "[[1 0 1 1]\n",
            " [1 1 1 1]\n",
            " [0 1 0 0]\n",
            " [1 0 0 1]]\n"
          ]
        }
      ]
    },
    {
      "cell_type": "markdown",
      "metadata": {
        "id": "IY5L-h-7zWhN"
      },
      "source": [
        "<h1>Задача 3. Напишите функцию, которая возвращает уникальные элементы из каждой строки матрицы. Напишите такую же функцию, но для столбцов. Напишите тесты для кода"
      ]
    },
    {
      "cell_type": "code",
      "execution_count": 6,
      "metadata": {
        "id": "-8dEZhR0SBC-"
      },
      "outputs": [],
      "source": [
        "def unique_rows(m):\n",
        "    return [np.unique(i) for i in m]\n",
        "\n",
        "def unique_columns(m):\n",
        "    m = zip(*m)\n",
        "    return [np.unique(i) for i in m]"
      ]
    },
    {
      "cell_type": "code",
      "source": [
        "M = [[1, 2, 3],\n",
        "     [4, 4, 6],\n",
        "     [7, 8, 9]]\n",
        "print(M)\n",
        "print(unique_rows(M))\n",
        "print(unique_columns(M))"
      ],
      "metadata": {
        "colab": {
          "base_uri": "https://localhost:8080/"
        },
        "id": "joQXkAz10BZU",
        "outputId": "c2256e92-d21a-4fa7-a8d9-0d5e561dd78d"
      },
      "execution_count": 26,
      "outputs": [
        {
          "output_type": "stream",
          "name": "stdout",
          "text": [
            "[[1, 2, 3], [4, 4, 6], [7, 8, 9]]\n",
            "[array([1, 2, 3]), array([4, 6]), array([7, 8, 9])]\n",
            "[array([1, 4, 7]), array([2, 4, 8]), array([3, 6, 9])]\n"
          ]
        }
      ]
    },
    {
      "cell_type": "markdown",
      "metadata": {
        "id": "roYAlo4Jz-lH"
      },
      "source": [
        "<h1>Задача 4. Напишите функцию, которая заполняет матрицу с размерами $(m, n)$ случайными числами, распределенными по нормальному закону. Затем считает мат. ожидание и дисперсию для каждого из столбцов и строк, а также строит для каждой строки и столбца гистограмму значений (использовать функцию hist из модуля matplotlib.plot)"
      ]
    },
    {
      "cell_type": "code",
      "execution_count": 7,
      "metadata": {
        "id": "nZK_71hMSQzv",
        "colab": {
          "base_uri": "https://localhost:8080/",
          "height": 430
        },
        "outputId": "a25a60ce-cd8e-4a81-bc2f-703068029993"
      },
      "outputs": [
        {
          "output_type": "display_data",
          "data": {
            "text/plain": [
              "<Figure size 640x480 with 1 Axes>"
            ],
            "image/png": "[encoded data removed]"
          },
          "metadata": {}
        }
      ],
      "source": [
        "def f4(m, n):\n",
        "    M = np.random.normal(0, 1, (m, n))\n",
        "    m_mean = [np.mean(i) for i in M] + [np.mean(i) for i in zip(*M)]\n",
        "    m_var = [np.var(i) for i in M] + [np.var(i) for i in zip(*M)]\n",
        "    plt.hist(m_mean, label='мат ожидание')\n",
        "    plt.hist(m_var, label='дисперсия')\n",
        "    plt.legend()\n",
        "    plt.show()\n",
        "\n",
        "f4(6, 6)"
      ]
    },
    {
      "cell_type": "markdown",
      "metadata": {
        "id": "BDyATNdM0dJ2"
      },
      "source": [
        "<h1>Задача 5. Напишите функцию, которая заполняет матрицу $(m, n)$ в шахматном порядке заданными числами $a$ и $b$. Напишите тесты для кода"
      ]
    },
    {
      "cell_type": "code",
      "source": [
        "def chess(m, n, a, b):\n",
        "    return [[[a, b][(j + i) % 2] for j in range(m)] for i in range(n)]"
      ],
      "metadata": {
        "id": "i55o4Gqaz0Gt"
      },
      "execution_count": 29,
      "outputs": []
    },
    {
      "cell_type": "code",
      "execution_count": 30,
      "metadata": {
        "id": "RWNJYWQGecS6",
        "colab": {
          "base_uri": "https://localhost:8080/"
        },
        "outputId": "fa046a01-ce0d-4047-b77c-71743230af36"
      },
      "outputs": [
        {
          "output_type": "stream",
          "name": "stdout",
          "text": [
            "5 4 0 1\n",
            "0 1 0 1 0 \n",
            "1 0 1 0 1 \n",
            "0 1 0 1 0 \n",
            "1 0 1 0 1 \n"
          ]
        }
      ],
      "source": [
        "m, n, a, b = map(int, input().split())\n",
        "chess_m = chess(m, n, a, b)\n",
        "\n",
        "for i in range(n):\n",
        "    for j in range(m):\n",
        "        print(chess_m[i][j], end = ' ')\n",
        "    print()"
      ]
    },
    {
      "cell_type": "markdown",
      "metadata": {
        "id": "-ymXLtTN0vB6"
      },
      "source": [
        "<h1>Задача 6. Напишите функцию, которая отрисовывает прямоугольник с заданными размерами (a, b) на изображении размера (m, n), цвет фона задайте в схеме RGB, как и цвет прямоугольника. Цвета также должны быть параметрами функции. Напишите аналогичную функцию но для овала с полуосями a и b. Напишите тесты для кода.\n",
        "Примечание: уравнение эллипса (границы овала) можно записать как:\n",
        "<h1>$\\frac{(x-x_0)^2}{a^2}+\\frac{(y-y_0)^2}{b^2}=1$"
      ]
    },
    {
      "cell_type": "code",
      "source": [
        "from matplotlib.patches import Rectangle\n",
        "from matplotlib.patches import Ellipse"
      ],
      "metadata": {
        "id": "z9uJ5ry9zut0"
      },
      "execution_count": 20,
      "outputs": []
    },
    {
      "cell_type": "code",
      "execution_count": 21,
      "metadata": {
        "id": "sNfl1t_kfOF4"
      },
      "outputs": [],
      "source": [
        "def draw_rectangle(a, b, m, n, rectangle_color, background_color):\n",
        "    fig, ax = plt.subplots()\n",
        "    ax.patch.set_facecolor(background_color)\n",
        "    plt.axis([0, m, 0, n])\n",
        "    ax.add_patch(Rectangle((0, 0), a, b, facecolor=rectangle_color))\n",
        "    plt.show()\n",
        "\n",
        "def draw_ellipse(a, b, m, n, ellipse_color, background_color):\n",
        "    fig, ax = plt.subplots()\n",
        "    ax.patch.set_facecolor(background_color)\n",
        "    plt.axis([0, m, 0, n])\n",
        "    ax.add_patch(Ellipse(xy=(a, b), width=2*a, height=2*b, facecolor=ellipse_color))\n",
        "    plt.show()"
      ]
    },
    {
      "cell_type": "code",
      "source": [
        "draw_rectangle(10, 8, 15, 15, (0.5, 0.7, 0.3), (0.7, 0.8, 0.5))\n",
        "draw_ellipse(5, 2, 15, 15, (0.5, 0.7, 0.3), (0.7, 0.8, 0.5))"
      ],
      "metadata": {
        "colab": {
          "base_uri": "https://localhost:8080/",
          "height": 843
        },
        "id": "vBh9kx3szjrN",
        "outputId": "7a8e086d-c7b5-4df9-cabc-21b4c54787f4"
      },
      "execution_count": 22,
      "outputs": [
        {
          "output_type": "display_data",
          "data": {
            "text/plain": [
              "<Figure size 640x480 with 1 Axes>"
            ],
            "image/png": "[encoded data removed]"
          },
          "metadata": {}
        },
        {
          "output_type": "display_data",
          "data": {
            "text/plain": [
              "<Figure size 640x480 with 1 Axes>"
            ],
            "image/png": "[encoded data removed]"
          },
          "metadata": {}
        }
      ]
    },
    {
      "cell_type": "markdown",
      "metadata": {
        "id": "S82c38oz244H"
      },
      "source": [
        "<h1>Задача 7. Дан некий временной ряд. Для данного ряда нужно найти его: математическое ожидание, дисперсию, СКО, найти все локальные максимумы и минимумы (локальный максимум - это точка, которая больше своих соседних точек, а локальный минимум - это точка, которая меньше своих соседей), а также вычислить для данного ряда другой ряд, получаемый методом скользящего среднего с размером окна $p$.\n",
        "<h1>Примечание: метод скользящего среднего подразумевает нахождение среднего из подмножетсва ряда размером $p$"
      ]
    },
    {
      "cell_type": "code",
      "execution_count": 17,
      "metadata": {
        "id": "Zb9mIVge5MMt",
        "colab": {
          "base_uri": "https://localhost:8080/"
        },
        "outputId": "fec34c75-b55b-4c90-8825-295663be365a"
      },
      "outputs": [
        {
          "output_type": "stream",
          "name": "stdout",
          "text": [
            "(6.111111111111111, 6.098765432098765, 2.469567863432541, [8, 8], [4, 1], [6.5, 6.25, 5.75, 6.0, 4.75, 6.25])\n"
          ]
        }
      ],
      "source": [
        "from sys import stderr\n",
        "import numpy as np\n",
        "\n",
        "def f7(data, p):\n",
        "  m = np.mean(data)\n",
        "  d = np.var(data)\n",
        "  std = np.std(data)\n",
        "  loc_max = []\n",
        "  loc_min = []\n",
        "  for i in range(1, len(data)-1):\n",
        "    if (data[i] > data[i-1]) and (data[i] > data[i+1]):\n",
        "            loc_max.append(data[i])\n",
        "    if (data[i] < data[i-1]) and (data[i] < data[i+1]):\n",
        "            loc_min.append(data[i])\n",
        "  cumsum = np.cumsum(np.insert(data, 0, 0))\n",
        "  return m, d, std, loc_max, loc_min, list((cumsum[p:] - cumsum[:-p]) / float(p))\n",
        "a = [5, 8, 7, 6, 4, 6, 8, 1, 10]\n",
        "print(f7(a, 4))"
      ]
    },
    {
      "cell_type": "markdown",
      "metadata": {
        "id": "jPkylmOX5O9n"
      },
      "source": [
        "<h1> Задача 8. Дан некоторый вектор с целочисленными метками классов, напишите функцию, которая выполняет one-hot-encoding для данного вектора\n",
        "<h1> One-hot-encoding - представление, в котором на месте метки некоторого класса стоит 1, в остальных позициях стоит 0. Например для вектора [0, 2, 3, 0] one-hot-encoding выглядит как: [[1, 0, 0, 0], [0, 0, 1, 0], [0, 0, 0, 1], [1, 0, 0, 0]]"
      ]
    },
    {
      "cell_type": "code",
      "execution_count": 16,
      "metadata": {
        "id": "Y-jlnZvw56lD",
        "colab": {
          "base_uri": "https://localhost:8080/"
        },
        "outputId": "051b0c55-628e-4f48-bd56-2cc9a3e1731c"
      },
      "outputs": [
        {
          "output_type": "stream",
          "name": "stdout",
          "text": [
            "[[1, 0, 0, 0], [0, 0, 1, 0], [0, 0, 0, 1], [1, 0, 0, 0]]\n"
          ]
        }
      ],
      "source": [
        "def ohe(a):\n",
        "    res = []\n",
        "    for i in a:\n",
        "        new_l = [0] * (max(a) + 1)\n",
        "        new_l[i] = 1\n",
        "        res.append(new_l)\n",
        "    return res\n",
        "\n",
        "print(ohe([0, 2, 3, 0]))"
      ]
    },
    {
      "cell_type": "code",
      "source": [],
      "metadata": {
        "id": "7_X28I8UzawU"
      },
      "execution_count": null,
      "outputs": []
    }
  ],
  "metadata": {
    "colab": {
      "provenance": []
    },
    "kernelspec": {
      "display_name": "Python 3 (ipykernel)",
      "language": "python",
      "name": "python3"
    },
    "language_info": {
      "codemirror_mode": {
        "name": "ipython",
        "version": 3
      },
      "file_extension": ".py",
      "mimetype": "text/x-python",
      "name": "python",
      "nbconvert_exporter": "python",
      "pygments_lexer": "ipython3",
      "version": "3.12.0"
    }
  },
  "nbformat": 4,
  "nbformat_minor": 0
}